{
  "nbformat": 4,
  "nbformat_minor": 0,
  "metadata": {
    "colab": {
      "provenance": [],
      "authorship_tag": "ABX9TyMVAzUbEzcij41bMVbAd4JO",
      "include_colab_link": true
    },
    "kernelspec": {
      "name": "python3",
      "display_name": "Python 3"
    },
    "language_info": {
      "name": "python"
    }
  },
  "cells": [
    {
      "cell_type": "markdown",
      "metadata": {
        "id": "view-in-github",
        "colab_type": "text"
      },
      "source": [
        "<a href=\"https://colab.research.google.com/github/fightmeat/Machine_Leaning/blob/main/18_%EB%8C%80%ED%95%9C%EB%AF%BC%EA%B5%AD_%EC%9C%A0%EB%A0%B9_%EB%8F%84%EC%8B%9C_%EB%B6%84%EC%84%9D.ipynb\" target=\"_parent\"><img src=\"https://colab.research.google.com/assets/colab-badge.svg\" alt=\"Open In Colab\"/></a>"
      ]
    },
    {
      "cell_type": "markdown",
      "source": [
        "# 주제 선정 이유\n",
        "- 유령 도시 : 한국의 고령화사회\n",
        "- 가구수가 없는 지역\n",
        "- 65세 이상 노인인구의 비중이 중장년층(20 ~ 39)의 비중보다 큰 경우\n",
        "- 소멸 위험 지역"
      ],
      "metadata": {
        "id": "blB50R811WGG"
      }
    },
    {
      "cell_type": "markdown",
      "source": [
        "## 인구 데이터 확보\n",
        "- 우리나라 인구수(행정구역별 - 광역시도, 행정구역별 - 시도)"
      ],
      "metadata": {
        "id": "fM5QKufN2T1o"
      }
    },
    {
      "cell_type": "code",
      "execution_count": null,
      "metadata": {
        "id": "6Qj04aWn1P4z"
      },
      "outputs": [],
      "source": []
    }
  ]
}